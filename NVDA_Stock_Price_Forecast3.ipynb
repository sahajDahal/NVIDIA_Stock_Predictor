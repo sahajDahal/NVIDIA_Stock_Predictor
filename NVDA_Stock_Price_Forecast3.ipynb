{
 "cells": [
  {
   "cell_type": "markdown",
   "id": "60554851",
   "metadata": {},
   "source": [
    "# Importing Yahoo Finance API"
   ]
  },
  {
   "cell_type": "code",
   "execution_count": 1,
   "id": "1c911974",
   "metadata": {},
   "outputs": [],
   "source": [
    "import yfinance as yf"
   ]
  },
  {
   "cell_type": "markdown",
   "id": "c271e641",
   "metadata": {},
   "source": [
    "# Downloading Nvidia stock price history"
   ]
  },
  {
   "cell_type": "code",
   "execution_count": 2,
   "id": "ef21a82d",
   "metadata": {},
   "outputs": [],
   "source": [
    "nvda = yf.Ticker('NVDA')"
   ]
  },
  {
   "cell_type": "code",
   "execution_count": 3,
   "id": "3060e67a",
   "metadata": {},
   "outputs": [],
   "source": [
    "nvda = nvda.history(period='max')"
   ]
  },
  {
   "cell_type": "code",
   "execution_count": 4,
   "id": "c6a77b23",
   "metadata": {},
   "outputs": [
    {
     "data": {
      "text/html": [
       "<div>\n",
       "<style scoped>\n",
       "    .dataframe tbody tr th:only-of-type {\n",
       "        vertical-align: middle;\n",
       "    }\n",
       "\n",
       "    .dataframe tbody tr th {\n",
       "        vertical-align: top;\n",
       "    }\n",
       "\n",
       "    .dataframe thead th {\n",
       "        text-align: right;\n",
       "    }\n",
       "</style>\n",
       "<table border=\"1\" class=\"dataframe\">\n",
       "  <thead>\n",
       "    <tr style=\"text-align: right;\">\n",
       "      <th></th>\n",
       "      <th>Open</th>\n",
       "      <th>High</th>\n",
       "      <th>Low</th>\n",
       "      <th>Close</th>\n",
       "      <th>Volume</th>\n",
       "      <th>Dividends</th>\n",
       "      <th>Stock Splits</th>\n",
       "    </tr>\n",
       "    <tr>\n",
       "      <th>Date</th>\n",
       "      <th></th>\n",
       "      <th></th>\n",
       "      <th></th>\n",
       "      <th></th>\n",
       "      <th></th>\n",
       "      <th></th>\n",
       "      <th></th>\n",
       "    </tr>\n",
       "  </thead>\n",
       "  <tbody>\n",
       "    <tr>\n",
       "      <th>1999-01-22 00:00:00-05:00</th>\n",
       "      <td>0.401407</td>\n",
       "      <td>0.447999</td>\n",
       "      <td>0.356010</td>\n",
       "      <td>0.376319</td>\n",
       "      <td>271468800</td>\n",
       "      <td>0.0</td>\n",
       "      <td>0.0</td>\n",
       "    </tr>\n",
       "    <tr>\n",
       "      <th>1999-01-25 00:00:00-05:00</th>\n",
       "      <td>0.406185</td>\n",
       "      <td>0.420521</td>\n",
       "      <td>0.376319</td>\n",
       "      <td>0.415743</td>\n",
       "      <td>51048000</td>\n",
       "      <td>0.0</td>\n",
       "      <td>0.0</td>\n",
       "    </tr>\n",
       "    <tr>\n",
       "      <th>1999-01-26 00:00:00-05:00</th>\n",
       "      <td>0.420521</td>\n",
       "      <td>0.428884</td>\n",
       "      <td>0.377513</td>\n",
       "      <td>0.383487</td>\n",
       "      <td>34320000</td>\n",
       "      <td>0.0</td>\n",
       "      <td>0.0</td>\n",
       "    </tr>\n",
       "    <tr>\n",
       "      <th>1999-01-27 00:00:00-05:00</th>\n",
       "      <td>0.384682</td>\n",
       "      <td>0.394239</td>\n",
       "      <td>0.363177</td>\n",
       "      <td>0.382293</td>\n",
       "      <td>24436800</td>\n",
       "      <td>0.0</td>\n",
       "      <td>0.0</td>\n",
       "    </tr>\n",
       "    <tr>\n",
       "      <th>1999-01-28 00:00:00-05:00</th>\n",
       "      <td>0.382293</td>\n",
       "      <td>0.384682</td>\n",
       "      <td>0.378708</td>\n",
       "      <td>0.381098</td>\n",
       "      <td>22752000</td>\n",
       "      <td>0.0</td>\n",
       "      <td>0.0</td>\n",
       "    </tr>\n",
       "    <tr>\n",
       "      <th>...</th>\n",
       "      <td>...</td>\n",
       "      <td>...</td>\n",
       "      <td>...</td>\n",
       "      <td>...</td>\n",
       "      <td>...</td>\n",
       "      <td>...</td>\n",
       "      <td>...</td>\n",
       "    </tr>\n",
       "    <tr>\n",
       "      <th>2023-07-11 00:00:00-04:00</th>\n",
       "      <td>424.809998</td>\n",
       "      <td>427.579987</td>\n",
       "      <td>420.670013</td>\n",
       "      <td>424.049988</td>\n",
       "      <td>29824400</td>\n",
       "      <td>0.0</td>\n",
       "      <td>0.0</td>\n",
       "    </tr>\n",
       "    <tr>\n",
       "      <th>2023-07-12 00:00:00-04:00</th>\n",
       "      <td>430.329987</td>\n",
       "      <td>439.350006</td>\n",
       "      <td>427.769989</td>\n",
       "      <td>439.019989</td>\n",
       "      <td>48127700</td>\n",
       "      <td>0.0</td>\n",
       "      <td>0.0</td>\n",
       "    </tr>\n",
       "    <tr>\n",
       "      <th>2023-07-13 00:00:00-04:00</th>\n",
       "      <td>445.179993</td>\n",
       "      <td>461.549988</td>\n",
       "      <td>444.920013</td>\n",
       "      <td>459.769989</td>\n",
       "      <td>47820400</td>\n",
       "      <td>0.0</td>\n",
       "      <td>0.0</td>\n",
       "    </tr>\n",
       "    <tr>\n",
       "      <th>2023-07-14 00:00:00-04:00</th>\n",
       "      <td>465.829987</td>\n",
       "      <td>480.880005</td>\n",
       "      <td>450.600006</td>\n",
       "      <td>454.690002</td>\n",
       "      <td>77066400</td>\n",
       "      <td>0.0</td>\n",
       "      <td>0.0</td>\n",
       "    </tr>\n",
       "    <tr>\n",
       "      <th>2023-07-17 00:00:00-04:00</th>\n",
       "      <td>462.890015</td>\n",
       "      <td>464.959991</td>\n",
       "      <td>452.630005</td>\n",
       "      <td>464.609985</td>\n",
       "      <td>50053170</td>\n",
       "      <td>0.0</td>\n",
       "      <td>0.0</td>\n",
       "    </tr>\n",
       "  </tbody>\n",
       "</table>\n",
       "<p>6160 rows × 7 columns</p>\n",
       "</div>"
      ],
      "text/plain": [
       "                                 Open        High         Low       Close  \\\n",
       "Date                                                                        \n",
       "1999-01-22 00:00:00-05:00    0.401407    0.447999    0.356010    0.376319   \n",
       "1999-01-25 00:00:00-05:00    0.406185    0.420521    0.376319    0.415743   \n",
       "1999-01-26 00:00:00-05:00    0.420521    0.428884    0.377513    0.383487   \n",
       "1999-01-27 00:00:00-05:00    0.384682    0.394239    0.363177    0.382293   \n",
       "1999-01-28 00:00:00-05:00    0.382293    0.384682    0.378708    0.381098   \n",
       "...                               ...         ...         ...         ...   \n",
       "2023-07-11 00:00:00-04:00  424.809998  427.579987  420.670013  424.049988   \n",
       "2023-07-12 00:00:00-04:00  430.329987  439.350006  427.769989  439.019989   \n",
       "2023-07-13 00:00:00-04:00  445.179993  461.549988  444.920013  459.769989   \n",
       "2023-07-14 00:00:00-04:00  465.829987  480.880005  450.600006  454.690002   \n",
       "2023-07-17 00:00:00-04:00  462.890015  464.959991  452.630005  464.609985   \n",
       "\n",
       "                              Volume  Dividends  Stock Splits  \n",
       "Date                                                           \n",
       "1999-01-22 00:00:00-05:00  271468800        0.0           0.0  \n",
       "1999-01-25 00:00:00-05:00   51048000        0.0           0.0  \n",
       "1999-01-26 00:00:00-05:00   34320000        0.0           0.0  \n",
       "1999-01-27 00:00:00-05:00   24436800        0.0           0.0  \n",
       "1999-01-28 00:00:00-05:00   22752000        0.0           0.0  \n",
       "...                              ...        ...           ...  \n",
       "2023-07-11 00:00:00-04:00   29824400        0.0           0.0  \n",
       "2023-07-12 00:00:00-04:00   48127700        0.0           0.0  \n",
       "2023-07-13 00:00:00-04:00   47820400        0.0           0.0  \n",
       "2023-07-14 00:00:00-04:00   77066400        0.0           0.0  \n",
       "2023-07-17 00:00:00-04:00   50053170        0.0           0.0  \n",
       "\n",
       "[6160 rows x 7 columns]"
      ]
     },
     "execution_count": 4,
     "metadata": {},
     "output_type": "execute_result"
    }
   ],
   "source": [
    "nvda"
   ]
  },
  {
   "cell_type": "code",
   "execution_count": 5,
   "id": "9b3eba35",
   "metadata": {},
   "outputs": [
    {
     "data": {
      "text/plain": [
       "DatetimeIndex(['1999-01-22 00:00:00-05:00', '1999-01-25 00:00:00-05:00',\n",
       "               '1999-01-26 00:00:00-05:00', '1999-01-27 00:00:00-05:00',\n",
       "               '1999-01-28 00:00:00-05:00', '1999-01-29 00:00:00-05:00',\n",
       "               '1999-02-01 00:00:00-05:00', '1999-02-02 00:00:00-05:00',\n",
       "               '1999-02-03 00:00:00-05:00', '1999-02-04 00:00:00-05:00',\n",
       "               ...\n",
       "               '2023-07-03 00:00:00-04:00', '2023-07-05 00:00:00-04:00',\n",
       "               '2023-07-06 00:00:00-04:00', '2023-07-07 00:00:00-04:00',\n",
       "               '2023-07-10 00:00:00-04:00', '2023-07-11 00:00:00-04:00',\n",
       "               '2023-07-12 00:00:00-04:00', '2023-07-13 00:00:00-04:00',\n",
       "               '2023-07-14 00:00:00-04:00', '2023-07-17 00:00:00-04:00'],\n",
       "              dtype='datetime64[ns, America/New_York]', name='Date', length=6160, freq=None)"
      ]
     },
     "execution_count": 5,
     "metadata": {},
     "output_type": "execute_result"
    }
   ],
   "source": [
    "nvda.index"
   ]
  },
  {
   "cell_type": "markdown",
   "id": "6db0186a",
   "metadata": {},
   "source": [
    "# Cleaning and Visualizing Data"
   ]
  },
  {
   "cell_type": "code",
   "execution_count": 6,
   "id": "e3295fcc",
   "metadata": {},
   "outputs": [
    {
     "data": {
      "text/plain": [
       "<Axes: xlabel='Date'>"
      ]
     },
     "execution_count": 6,
     "metadata": {},
     "output_type": "execute_result"
    },
    {
     "data": {
      "image/png": "[encoded data removed]",
      "text/plain": [
       "<Figure size 640x480 with 1 Axes>"
      ]
     },
     "metadata": {},
     "output_type": "display_data"
    }
   ],
   "source": [
    "nvda.plot.line(y='Close',use_index=True)"
   ]
  },
  {
   "cell_type": "markdown",
   "id": "be4bde17",
   "metadata": {},
   "source": [
    "## Removing extra columns"
   ]
  },
  {
   "cell_type": "code",
   "execution_count": 7,
   "id": "2c3027e7",
   "metadata": {},
   "outputs": [],
   "source": [
    "del nvda['Dividends']\n",
    "del nvda['Stock Splits']"
   ]
  },
  {
   "cell_type": "markdown",
   "id": "33616914",
   "metadata": {},
   "source": [
    "# Setting up the Target: Will the stock go up or down?"
   ]
  },
  {
   "cell_type": "code",
   "execution_count": 8,
   "id": "f623ede2",
   "metadata": {},
   "outputs": [],
   "source": [
    "nvda['Tomorrow'] = nvda['Close'].shift(-1)"
   ]
  },
  {
   "cell_type": "code",
   "execution_count": 9,
   "id": "6a837bfd",
   "metadata": {},
   "outputs": [
    {
     "data": {
      "text/html": [
       "<div>\n",
       "<style scoped>\n",
       "    .dataframe tbody tr th:only-of-type {\n",
       "        vertical-align: middle;\n",
       "    }\n",
       "\n",
       "    .dataframe tbody tr th {\n",
       "        vertical-align: top;\n",
       "    }\n",
       "\n",
       "    .dataframe thead th {\n",
       "        text-align: right;\n",
       "    }\n",
       "</style>\n",
       "<table border=\"1\" class=\"dataframe\">\n",
       "  <thead>\n",
       "    <tr style=\"text-align: right;\">\n",
       "      <th></th>\n",
       "      <th>Open</th>\n",
       "      <th>High</th>\n",
       "      <th>Low</th>\n",
       "      <th>Close</th>\n",
       "      <th>Volume</th>\n",
       "      <th>Tomorrow</th>\n",
       "    </tr>\n",
       "    <tr>\n",
       "      <th>Date</th>\n",
       "      <th></th>\n",
       "      <th></th>\n",
       "      <th></th>\n",
       "      <th></th>\n",
       "      <th></th>\n",
       "      <th></th>\n",
       "    </tr>\n",
       "  </thead>\n",
       "  <tbody>\n",
       "    <tr>\n",
       "      <th>1999-01-22 00:00:00-05:00</th>\n",
       "      <td>0.401407</td>\n",
       "      <td>0.447999</td>\n",
       "      <td>0.356010</td>\n",
       "      <td>0.376319</td>\n",
       "      <td>271468800</td>\n",
       "      <td>0.415743</td>\n",
       "    </tr>\n",
       "    <tr>\n",
       "      <th>1999-01-25 00:00:00-05:00</th>\n",
       "      <td>0.406185</td>\n",
       "      <td>0.420521</td>\n",
       "      <td>0.376319</td>\n",
       "      <td>0.415743</td>\n",
       "      <td>51048000</td>\n",
       "      <td>0.383487</td>\n",
       "    </tr>\n",
       "    <tr>\n",
       "      <th>1999-01-26 00:00:00-05:00</th>\n",
       "      <td>0.420521</td>\n",
       "      <td>0.428884</td>\n",
       "      <td>0.377513</td>\n",
       "      <td>0.383487</td>\n",
       "      <td>34320000</td>\n",
       "      <td>0.382293</td>\n",
       "    </tr>\n",
       "    <tr>\n",
       "      <th>1999-01-27 00:00:00-05:00</th>\n",
       "      <td>0.384682</td>\n",
       "      <td>0.394239</td>\n",
       "      <td>0.363177</td>\n",
       "      <td>0.382293</td>\n",
       "      <td>24436800</td>\n",
       "      <td>0.381098</td>\n",
       "    </tr>\n",
       "    <tr>\n",
       "      <th>1999-01-28 00:00:00-05:00</th>\n",
       "      <td>0.382293</td>\n",
       "      <td>0.384682</td>\n",
       "      <td>0.378708</td>\n",
       "      <td>0.381098</td>\n",
       "      <td>22752000</td>\n",
       "      <td>0.363177</td>\n",
       "    </tr>\n",
       "    <tr>\n",
       "      <th>...</th>\n",
       "      <td>...</td>\n",
       "      <td>...</td>\n",
       "      <td>...</td>\n",
       "      <td>...</td>\n",
       "      <td>...</td>\n",
       "      <td>...</td>\n",
       "    </tr>\n",
       "    <tr>\n",
       "      <th>2023-07-11 00:00:00-04:00</th>\n",
       "      <td>424.809998</td>\n",
       "      <td>427.579987</td>\n",
       "      <td>420.670013</td>\n",
       "      <td>424.049988</td>\n",
       "      <td>29824400</td>\n",
       "      <td>439.019989</td>\n",
       "    </tr>\n",
       "    <tr>\n",
       "      <th>2023-07-12 00:00:00-04:00</th>\n",
       "      <td>430.329987</td>\n",
       "      <td>439.350006</td>\n",
       "      <td>427.769989</td>\n",
       "      <td>439.019989</td>\n",
       "      <td>48127700</td>\n",
       "      <td>459.769989</td>\n",
       "    </tr>\n",
       "    <tr>\n",
       "      <th>2023-07-13 00:00:00-04:00</th>\n",
       "      <td>445.179993</td>\n",
       "      <td>461.549988</td>\n",
       "      <td>444.920013</td>\n",
       "      <td>459.769989</td>\n",
       "      <td>47820400</td>\n",
       "      <td>454.690002</td>\n",
       "    </tr>\n",
       "    <tr>\n",
       "      <th>2023-07-14 00:00:00-04:00</th>\n",
       "      <td>465.829987</td>\n",
       "      <td>480.880005</td>\n",
       "      <td>450.600006</td>\n",
       "      <td>454.690002</td>\n",
       "      <td>77066400</td>\n",
       "      <td>464.609985</td>\n",
       "    </tr>\n",
       "    <tr>\n",
       "      <th>2023-07-17 00:00:00-04:00</th>\n",
       "      <td>462.890015</td>\n",
       "      <td>464.959991</td>\n",
       "      <td>452.630005</td>\n",
       "      <td>464.609985</td>\n",
       "      <td>50053170</td>\n",
       "      <td>NaN</td>\n",
       "    </tr>\n",
       "  </tbody>\n",
       "</table>\n",
       "<p>6160 rows × 6 columns</p>\n",
       "</div>"
      ],
      "text/plain": [
       "                                 Open        High         Low       Close  \\\n",
       "Date                                                                        \n",
       "1999-01-22 00:00:00-05:00    0.401407    0.447999    0.356010    0.376319   \n",
       "1999-01-25 00:00:00-05:00    0.406185    0.420521    0.376319    0.415743   \n",
       "1999-01-26 00:00:00-05:00    0.420521    0.428884    0.377513    0.383487   \n",
       "1999-01-27 00:00:00-05:00    0.384682    0.394239    0.363177    0.382293   \n",
       "1999-01-28 00:00:00-05:00    0.382293    0.384682    0.378708    0.381098   \n",
       "...                               ...         ...         ...         ...   \n",
       "2023-07-11 00:00:00-04:00  424.809998  427.579987  420.670013  424.049988   \n",
       "2023-07-12 00:00:00-04:00  430.329987  439.350006  427.769989  439.019989   \n",
       "2023-07-13 00:00:00-04:00  445.179993  461.549988  444.920013  459.769989   \n",
       "2023-07-14 00:00:00-04:00  465.829987  480.880005  450.600006  454.690002   \n",
       "2023-07-17 00:00:00-04:00  462.890015  464.959991  452.630005  464.609985   \n",
       "\n",
       "                              Volume    Tomorrow  \n",
       "Date                                              \n",
       "1999-01-22 00:00:00-05:00  271468800    0.415743  \n",
       "1999-01-25 00:00:00-05:00   51048000    0.383487  \n",
       "1999-01-26 00:00:00-05:00   34320000    0.382293  \n",
       "1999-01-27 00:00:00-05:00   24436800    0.381098  \n",
       "1999-01-28 00:00:00-05:00   22752000    0.363177  \n",
       "...                              ...         ...  \n",
       "2023-07-11 00:00:00-04:00   29824400  439.019989  \n",
       "2023-07-12 00:00:00-04:00   48127700  459.769989  \n",
       "2023-07-13 00:00:00-04:00   47820400  454.690002  \n",
       "2023-07-14 00:00:00-04:00   77066400  464.609985  \n",
       "2023-07-17 00:00:00-04:00   50053170         NaN  \n",
       "\n",
       "[6160 rows x 6 columns]"
      ]
     },
     "execution_count": 9,
     "metadata": {},
     "output_type": "execute_result"
    }
   ],
   "source": [
    "nvda"
   ]
  },
  {
   "cell_type": "code",
   "execution_count": 12,
   "id": "da90c8e5",
   "metadata": {},
   "outputs": [
    {
     "data": {
      "text/html": [
       "<div>\n",
       "<style scoped>\n",
       "    .dataframe tbody tr th:only-of-type {\n",
       "        vertical-align: middle;\n",
       "    }\n",
       "\n",
       "    .dataframe tbody tr th {\n",
       "        vertical-align: top;\n",
       "    }\n",
       "\n",
       "    .dataframe thead th {\n",
       "        text-align: right;\n",
       "    }\n",
       "</style>\n",
       "<table border=\"1\" class=\"dataframe\">\n",
       "  <thead>\n",
       "    <tr style=\"text-align: right;\">\n",
       "      <th></th>\n",
       "      <th>Open</th>\n",
       "      <th>High</th>\n",
       "      <th>Low</th>\n",
       "      <th>Close</th>\n",
       "      <th>Volume</th>\n",
       "      <th>Tomorrow</th>\n",
       "      <th>Target</th>\n",
       "    </tr>\n",
       "    <tr>\n",
       "      <th>Date</th>\n",
       "      <th></th>\n",
       "      <th></th>\n",
       "      <th></th>\n",
       "      <th></th>\n",
       "      <th></th>\n",
       "      <th></th>\n",
       "      <th></th>\n",
       "    </tr>\n",
       "  </thead>\n",
       "  <tbody>\n",
       "    <tr>\n",
       "      <th>1999-01-22 00:00:00-05:00</th>\n",
       "      <td>0.401407</td>\n",
       "      <td>0.447999</td>\n",
       "      <td>0.356010</td>\n",
       "      <td>0.376319</td>\n",
       "      <td>271468800</td>\n",
       "      <td>0.415743</td>\n",
       "      <td>1</td>\n",
       "    </tr>\n",
       "    <tr>\n",
       "      <th>1999-01-25 00:00:00-05:00</th>\n",
       "      <td>0.406185</td>\n",
       "      <td>0.420521</td>\n",
       "      <td>0.376319</td>\n",
       "      <td>0.415743</td>\n",
       "      <td>51048000</td>\n",
       "      <td>0.383487</td>\n",
       "      <td>0</td>\n",
       "    </tr>\n",
       "    <tr>\n",
       "      <th>1999-01-26 00:00:00-05:00</th>\n",
       "      <td>0.420521</td>\n",
       "      <td>0.428884</td>\n",
       "      <td>0.377513</td>\n",
       "      <td>0.383487</td>\n",
       "      <td>34320000</td>\n",
       "      <td>0.382293</td>\n",
       "      <td>0</td>\n",
       "    </tr>\n",
       "    <tr>\n",
       "      <th>1999-01-27 00:00:00-05:00</th>\n",
       "      <td>0.384682</td>\n",
       "      <td>0.394239</td>\n",
       "      <td>0.363177</td>\n",
       "      <td>0.382293</td>\n",
       "      <td>24436800</td>\n",
       "      <td>0.381098</td>\n",
       "      <td>0</td>\n",
       "    </tr>\n",
       "    <tr>\n",
       "      <th>1999-01-28 00:00:00-05:00</th>\n",
       "      <td>0.382293</td>\n",
       "      <td>0.384682</td>\n",
       "      <td>0.378708</td>\n",
       "      <td>0.381098</td>\n",
       "      <td>22752000</td>\n",
       "      <td>0.363177</td>\n",
       "      <td>0</td>\n",
       "    </tr>\n",
       "    <tr>\n",
       "      <th>...</th>\n",
       "      <td>...</td>\n",
       "      <td>...</td>\n",
       "      <td>...</td>\n",
       "      <td>...</td>\n",
       "      <td>...</td>\n",
       "      <td>...</td>\n",
       "      <td>...</td>\n",
       "    </tr>\n",
       "    <tr>\n",
       "      <th>2023-07-11 00:00:00-04:00</th>\n",
       "      <td>424.809998</td>\n",
       "      <td>427.579987</td>\n",
       "      <td>420.670013</td>\n",
       "      <td>424.049988</td>\n",
       "      <td>29824400</td>\n",
       "      <td>439.019989</td>\n",
       "      <td>1</td>\n",
       "    </tr>\n",
       "    <tr>\n",
       "      <th>2023-07-12 00:00:00-04:00</th>\n",
       "      <td>430.329987</td>\n",
       "      <td>439.350006</td>\n",
       "      <td>427.769989</td>\n",
       "      <td>439.019989</td>\n",
       "      <td>48127700</td>\n",
       "      <td>459.769989</td>\n",
       "      <td>1</td>\n",
       "    </tr>\n",
       "    <tr>\n",
       "      <th>2023-07-13 00:00:00-04:00</th>\n",
       "      <td>445.179993</td>\n",
       "      <td>461.549988</td>\n",
       "      <td>444.920013</td>\n",
       "      <td>459.769989</td>\n",
       "      <td>47820400</td>\n",
       "      <td>454.690002</td>\n",
       "      <td>0</td>\n",
       "    </tr>\n",
       "    <tr>\n",
       "      <th>2023-07-14 00:00:00-04:00</th>\n",
       "      <td>465.829987</td>\n",
       "      <td>480.880005</td>\n",
       "      <td>450.600006</td>\n",
       "      <td>454.690002</td>\n",
       "      <td>77066400</td>\n",
       "      <td>464.609985</td>\n",
       "      <td>1</td>\n",
       "    </tr>\n",
       "    <tr>\n",
       "      <th>2023-07-17 00:00:00-04:00</th>\n",
       "      <td>462.890015</td>\n",
       "      <td>464.959991</td>\n",
       "      <td>452.630005</td>\n",
       "      <td>464.609985</td>\n",
       "      <td>50053170</td>\n",
       "      <td>NaN</td>\n",
       "      <td>0</td>\n",
       "    </tr>\n",
       "  </tbody>\n",
       "</table>\n",
       "<p>6160 rows × 7 columns</p>\n",
       "</div>"
      ],
      "text/plain": [
       "                                 Open        High         Low       Close  \\\n",
       "Date                                                                        \n",
       "1999-01-22 00:00:00-05:00    0.401407    0.447999    0.356010    0.376319   \n",
       "1999-01-25 00:00:00-05:00    0.406185    0.420521    0.376319    0.415743   \n",
       "1999-01-26 00:00:00-05:00    0.420521    0.428884    0.377513    0.383487   \n",
       "1999-01-27 00:00:00-05:00    0.384682    0.394239    0.363177    0.382293   \n",
       "1999-01-28 00:00:00-05:00    0.382293    0.384682    0.378708    0.381098   \n",
       "...                               ...         ...         ...         ...   \n",
       "2023-07-11 00:00:00-04:00  424.809998  427.579987  420.670013  424.049988   \n",
       "2023-07-12 00:00:00-04:00  430.329987  439.350006  427.769989  439.019989   \n",
       "2023-07-13 00:00:00-04:00  445.179993  461.549988  444.920013  459.769989   \n",
       "2023-07-14 00:00:00-04:00  465.829987  480.880005  450.600006  454.690002   \n",
       "2023-07-17 00:00:00-04:00  462.890015  464.959991  452.630005  464.609985   \n",
       "\n",
       "                              Volume    Tomorrow  Target  \n",
       "Date                                                      \n",
       "1999-01-22 00:00:00-05:00  271468800    0.415743       1  \n",
       "1999-01-25 00:00:00-05:00   51048000    0.383487       0  \n",
       "1999-01-26 00:00:00-05:00   34320000    0.382293       0  \n",
       "1999-01-27 00:00:00-05:00   24436800    0.381098       0  \n",
       "1999-01-28 00:00:00-05:00   22752000    0.363177       0  \n",
       "...                              ...         ...     ...  \n",
       "2023-07-11 00:00:00-04:00   29824400  439.019989       1  \n",
       "2023-07-12 00:00:00-04:00   48127700  459.769989       1  \n",
       "2023-07-13 00:00:00-04:00   47820400  454.690002       0  \n",
       "2023-07-14 00:00:00-04:00   77066400  464.609985       1  \n",
       "2023-07-17 00:00:00-04:00   50053170         NaN       0  \n",
       "\n",
       "[6160 rows x 7 columns]"
      ]
     },
     "execution_count": 12,
     "metadata": {},
     "output_type": "execute_result"
    }
   ],
   "source": [
    "nvda['Target'] = (nvda['Tomorrow'] > nvda['Close']).astype(int)\n",
    "nvda"
   ]
  },
  {
   "cell_type": "markdown",
   "id": "0ac690e8",
   "metadata": {},
   "source": [
    "# Training an initial ML Model"
   ]
  },
  {
   "cell_type": "markdown",
   "id": "58b33020",
   "metadata": {},
   "source": [
    "## Random Forest Classifier:"
   ]
  },
  {
   "cell_type": "code",
   "execution_count": 16,
   "id": "e39d18bb",
   "metadata": {},
   "outputs": [
    {
     "data": {
      "text/html": [
       "<style>#sk-container-id-1 {color: black;background-color: white;}#sk-container-id-1 pre{padding: 0;}#sk-container-id-1 div.sk-toggleable {background-color: white;}#sk-container-id-1 label.sk-toggleable__label {cursor: pointer;display: block;width: 100%;margin-bottom: 0;padding: 0.3em;box-sizing: border-box;text-align: center;}#sk-container-id-1 label.sk-toggleable__label-arrow:before {content: \"▸\";float: left;margin-right: 0.25em;color: #696969;}#sk-container-id-1 label.sk-toggleable__label-arrow:hover:before {color: black;}#sk-container-id-1 div.sk-estimator:hover label.sk-toggleable__label-arrow:before {color: black;}#sk-container-id-1 div.sk-toggleable__content {max-height: 0;max-width: 0;overflow: hidden;text-align: left;background-color: #f0f8ff;}#sk-container-id-1 div.sk-toggleable__content pre {margin: 0.2em;color: black;border-radius: 0.25em;background-color: #f0f8ff;}#sk-container-id-1 input.sk-toggleable__control:checked~div.sk-toggleable__content {max-height: 200px;max-width: 100%;overflow: auto;}#sk-container-id-1 input.sk-toggleable__control:checked~label.sk-toggleable__label-arrow:before {content: \"▾\";}#sk-container-id-1 div.sk-estimator input.sk-toggleable__control:checked~label.sk-toggleable__label {background-color: #d4ebff;}#sk-container-id-1 div.sk-label input.sk-toggleable__control:checked~label.sk-toggleable__label {background-color: #d4ebff;}#sk-container-id-1 input.sk-hidden--visually {border: 0;clip: rect(1px 1px 1px 1px);clip: rect(1px, 1px, 1px, 1px);height: 1px;margin: -1px;overflow: hidden;padding: 0;position: absolute;width: 1px;}#sk-container-id-1 div.sk-estimator {font-family: monospace;background-color: #f0f8ff;border: 1px dotted black;border-radius: 0.25em;box-sizing: border-box;margin-bottom: 0.5em;}#sk-container-id-1 div.sk-estimator:hover {background-color: #d4ebff;}#sk-container-id-1 div.sk-parallel-item::after {content: \"\";width: 100%;border-bottom: 1px solid gray;flex-grow: 1;}#sk-container-id-1 div.sk-label:hover label.sk-toggleable__label {background-color: #d4ebff;}#sk-container-id-1 div.sk-serial::before {content: \"\";position: absolute;border-left: 1px solid gray;box-sizing: border-box;top: 0;bottom: 0;left: 50%;z-index: 0;}#sk-container-id-1 div.sk-serial {display: flex;flex-direction: column;align-items: center;background-color: white;padding-right: 0.2em;padding-left: 0.2em;position: relative;}#sk-container-id-1 div.sk-item {position: relative;z-index: 1;}#sk-container-id-1 div.sk-parallel {display: flex;align-items: stretch;justify-content: center;background-color: white;position: relative;}#sk-container-id-1 div.sk-item::before, #sk-container-id-1 div.sk-parallel-item::before {content: \"\";position: absolute;border-left: 1px solid gray;box-sizing: border-box;top: 0;bottom: 0;left: 50%;z-index: -1;}#sk-container-id-1 div.sk-parallel-item {display: flex;flex-direction: column;z-index: 1;position: relative;background-color: white;}#sk-container-id-1 div.sk-parallel-item:first-child::after {align-self: flex-end;width: 50%;}#sk-container-id-1 div.sk-parallel-item:last-child::after {align-self: flex-start;width: 50%;}#sk-container-id-1 div.sk-parallel-item:only-child::after {width: 0;}#sk-container-id-1 div.sk-dashed-wrapped {border: 1px dashed gray;margin: 0 0.4em 0.5em 0.4em;box-sizing: border-box;padding-bottom: 0.4em;background-color: white;}#sk-container-id-1 div.sk-label label {font-family: monospace;font-weight: bold;display: inline-block;line-height: 1.2em;}#sk-container-id-1 div.sk-label-container {text-align: center;}#sk-container-id-1 div.sk-container {/* jupyter's `normalize.less` sets `[hidden] { display: none; }` but bootstrap.min.css set `[hidden] { display: none !important; }` so we also need the `!important` here to be able to override the default hidden behavior on the sphinx rendered scikit-learn.org. See: https://github.com/scikit-learn/scikit-learn/issues/21755 */display: inline-block !important;position: relative;}#sk-container-id-1 div.sk-text-repr-fallback {display: none;}</style><div id=\"sk-container-id-1\" class=\"sk-top-container\"><div class=\"sk-text-repr-fallback\"><pre>RandomForestClassifier(min_samples_split=100, n_estimators=200, random_state=1)</pre><b>In a Jupyter environment, please rerun this cell to show the HTML representation or trust the notebook. <br />On GitHub, the HTML representation is unable to render, please try loading this page with nbviewer.org.</b></div><div class=\"sk-container\" hidden><div class=\"sk-item\"><div class=\"sk-estimator sk-toggleable\"><input class=\"sk-toggleable__control sk-hidden--visually\" id=\"sk-estimator-id-1\" type=\"checkbox\" checked><label for=\"sk-estimator-id-1\" class=\"sk-toggleable__label sk-toggleable__label-arrow\">RandomForestClassifier</label><div class=\"sk-toggleable__content\"><pre>RandomForestClassifier(min_samples_split=100, n_estimators=200, random_state=1)</pre></div></div></div></div></div>"
      ],
      "text/plain": [
       "RandomForestClassifier(min_samples_split=100, n_estimators=200, random_state=1)"
      ]
     },
     "execution_count": 16,
     "metadata": {},
     "output_type": "execute_result"
    }
   ],
   "source": [
    "from sklearn.ensemble import RandomForestClassifier\n",
    "model = RandomForestClassifier(n_estimators=200, min_samples_split=100, random_state=1)\n",
    "\n",
    "train = nvda.iloc[:-100]\n",
    "test = nvda.iloc[-100:]\n",
    "\n",
    "predictors = ['Close','Volume','Open','High','Low']\n",
    "model.fit(train[predictors],train['Target'])"
   ]
  },
  {
   "cell_type": "markdown",
   "id": "452cc260",
   "metadata": {},
   "source": [
    "## Measuring how accurate model is:"
   ]
  },
  {
   "cell_type": "code",
   "execution_count": 17,
   "id": "352bb370",
   "metadata": {},
   "outputs": [],
   "source": [
    "from sklearn.metrics import precision_score"
   ]
  },
  {
   "cell_type": "code",
   "execution_count": 18,
   "id": "cdc4c727",
   "metadata": {},
   "outputs": [],
   "source": [
    "preds = model.predict(test[predictors])"
   ]
  },
  {
   "cell_type": "code",
   "execution_count": 23,
   "id": "aa38eaaf",
   "metadata": {},
   "outputs": [
    {
     "data": {
      "text/plain": [
       "0.5263157894736842"
      ]
     },
     "execution_count": 23,
     "metadata": {},
     "output_type": "execute_result"
    }
   ],
   "source": [
    "import pandas as pd\n",
    "preds = pd.Series(preds, index=test.index)\n",
    "precision_score(test['Target'],preds)"
   ]
  },
  {
   "cell_type": "code",
   "execution_count": 24,
   "id": "18e13e9b",
   "metadata": {},
   "outputs": [
    {
     "data": {
      "text/plain": [
       "<Axes: xlabel='Date'>"
      ]
     },
     "execution_count": 24,
     "metadata": {},
     "output_type": "execute_result"
    },
    {
     "data": {
      "image/png": "[encoded data removed]",
      "text/plain": [
       "<Figure size 640x480 with 1 Axes>"
      ]
     },
     "metadata": {},
     "output_type": "display_data"
    }
   ],
   "source": [
    "combined = pd.concat([test['Target'],preds],axis=1)\n",
    "combined.plot()"
   ]
  },
  {
   "cell_type": "markdown",
   "id": "f9ece013",
   "metadata": {},
   "source": [
    "# Building Backtesting System"
   ]
  },
  {
   "cell_type": "markdown",
   "id": "e63ade92",
   "metadata": {},
   "source": [
    "## Prediction function:"
   ]
  },
  {
   "cell_type": "code",
   "execution_count": 25,
   "id": "8353a38f",
   "metadata": {},
   "outputs": [],
   "source": [
    "def predict(train,test,predictors,model):\n",
    "    model.fit(train[predictors],train['Target'])\n",
    "    preds = model.predict(test[predictors])\n",
    "    preds = pd.Series(preds, index=test.index, name='Predictions')\n",
    "    combined = pd.concat([test['Target'],preds],axis=1)\n",
    "    return combined\n"
   ]
  },
  {
   "cell_type": "markdown",
   "id": "46a58d58",
   "metadata": {},
   "source": [
    "## Backtest function:"
   ]
  },
  {
   "cell_type": "code",
   "execution_count": 26,
   "id": "3266e0ac",
   "metadata": {},
   "outputs": [],
   "source": [
    "def backtest(data,model,predictors,start=2500,step=250):\n",
    "    all_predictions = []\n",
    "    \n",
    "    for i in range(start, data.shape[0], step):\n",
    "        train = data.iloc[0:i].copy()\n",
    "        test = data.iloc[i:(i+step)].copy()\n",
    "        predictions = predict(train,test,predictors,model)\n",
    "        all_predictions.append(predictions)\n",
    "    return pd.concat(all_predictions)"
   ]
  },
  {
   "cell_type": "code",
   "execution_count": 27,
   "id": "865df7f9",
   "metadata": {},
   "outputs": [],
   "source": [
    "predictions = backtest(nvda, model, predictors)"
   ]
  },
  {
   "cell_type": "markdown",
   "id": "7923fd85",
   "metadata": {},
   "source": [
    "## Evaluating errors of predictions:"
   ]
  },
  {
   "cell_type": "code",
   "execution_count": 28,
   "id": "3daba90a",
   "metadata": {},
   "outputs": [
    {
     "data": {
      "text/plain": [
       "0    2032\n",
       "1    1628\n",
       "Name: Predictions, dtype: int64"
      ]
     },
     "execution_count": 28,
     "metadata": {},
     "output_type": "execute_result"
    }
   ],
   "source": [
    "predictions['Predictions'].value_counts()"
   ]
  },
  {
   "cell_type": "code",
   "execution_count": 30,
   "id": "7da6c3cc",
   "metadata": {},
   "outputs": [
    {
     "data": {
      "text/plain": [
       "0.515970515970516"
      ]
     },
     "execution_count": 30,
     "metadata": {},
     "output_type": "execute_result"
    }
   ],
   "source": [
    "precision_score(predictions['Target'],predictions['Predictions'])"
   ]
  },
  {
   "cell_type": "code",
   "execution_count": 31,
   "id": "1adb7bcc",
   "metadata": {},
   "outputs": [
    {
     "data": {
      "text/plain": [
       "1    0.527322\n",
       "0    0.472678\n",
       "Name: Target, dtype: float64"
      ]
     },
     "execution_count": 31,
     "metadata": {},
     "output_type": "execute_result"
    }
   ],
   "source": [
    "predictions['Target'].value_counts()/predictions.shape[0]"
   ]
  },
  {
   "cell_type": "markdown",
   "id": "ebd7bae5",
   "metadata": {},
   "source": [
    "# Adding Additional Predictors"
   ]
  },
  {
   "cell_type": "code",
   "execution_count": 33,
   "id": "47d84b0b",
   "metadata": {},
   "outputs": [],
   "source": [
    "horizons = [2,5,60,250,1000]\n",
    "new_predictors = []\n",
    "\n",
    "for horizon in horizons:\n",
    "    rolling_averages = nvda.rolling(horizon).mean()\n",
    "    \n",
    "    ratio_column = f\"Close_Ratio_{horizon}\"\n",
    "    nvda[ratio_column] = nvda['Close']/rolling_averages['Close']\n",
    "    \n",
    "    trend_column = f\"Trend_{horizon}\"\n",
    "    nvda[trend_column] = nvda.shift(1).rolling(horizon).sum()['Target']\n",
    "    \n",
    "    new_predictors += [ratio_column,trend_column]"
   ]
  },
  {
   "cell_type": "code",
   "execution_count": 35,
   "id": "73820242",
   "metadata": {},
   "outputs": [],
   "source": [
    "nvda = nvda.dropna()"
   ]
  },
  {
   "cell_type": "code",
   "execution_count": 36,
   "id": "78b6c001",
   "metadata": {},
   "outputs": [
    {
     "data": {
      "text/html": [
       "<div>\n",
       "<style scoped>\n",
       "    .dataframe tbody tr th:only-of-type {\n",
       "        vertical-align: middle;\n",
       "    }\n",
       "\n",
       "    .dataframe tbody tr th {\n",
       "        vertical-align: top;\n",
       "    }\n",
       "\n",
       "    .dataframe thead th {\n",
       "        text-align: right;\n",
       "    }\n",
       "</style>\n",
       "<table border=\"1\" class=\"dataframe\">\n",
       "  <thead>\n",
       "    <tr style=\"text-align: right;\">\n",
       "      <th></th>\n",
       "      <th>Open</th>\n",
       "      <th>High</th>\n",
       "      <th>Low</th>\n",
       "      <th>Close</th>\n",
       "      <th>Volume</th>\n",
       "      <th>Tomorrow</th>\n",
       "      <th>Target</th>\n",
       "      <th>Close_Ratio_2</th>\n",
       "      <th>Trend_2</th>\n",
       "      <th>Close_Ratio_5</th>\n",
       "      <th>Trend_5</th>\n",
       "      <th>Close_Ratio_60</th>\n",
       "      <th>Trend_60</th>\n",
       "      <th>Close_Ratio_250</th>\n",
       "      <th>Trend_250</th>\n",
       "      <th>Close_Ratio_1000</th>\n",
       "      <th>Trend_1000</th>\n",
       "    </tr>\n",
       "    <tr>\n",
       "      <th>Date</th>\n",
       "      <th></th>\n",
       "      <th></th>\n",
       "      <th></th>\n",
       "      <th></th>\n",
       "      <th></th>\n",
       "      <th></th>\n",
       "      <th></th>\n",
       "      <th></th>\n",
       "      <th></th>\n",
       "      <th></th>\n",
       "      <th></th>\n",
       "      <th></th>\n",
       "      <th></th>\n",
       "      <th></th>\n",
       "      <th></th>\n",
       "      <th></th>\n",
       "      <th></th>\n",
       "    </tr>\n",
       "  </thead>\n",
       "  <tbody>\n",
       "    <tr>\n",
       "      <th>2003-01-15 00:00:00-05:00</th>\n",
       "      <td>0.945791</td>\n",
       "      <td>0.953437</td>\n",
       "      <td>0.915972</td>\n",
       "      <td>0.915972</td>\n",
       "      <td>90458400</td>\n",
       "      <td>0.854041</td>\n",
       "      <td>0</td>\n",
       "      <td>0.984388</td>\n",
       "      <td>1.0</td>\n",
       "      <td>0.979719</td>\n",
       "      <td>3.0</td>\n",
       "      <td>0.906374</td>\n",
       "      <td>32.0</td>\n",
       "      <td>0.453887</td>\n",
       "      <td>104.0</td>\n",
       "      <td>0.474866</td>\n",
       "      <td>470.0</td>\n",
       "    </tr>\n",
       "    <tr>\n",
       "      <th>2003-01-16 00:00:00-05:00</th>\n",
       "      <td>0.902209</td>\n",
       "      <td>0.913678</td>\n",
       "      <td>0.841808</td>\n",
       "      <td>0.854041</td>\n",
       "      <td>203997600</td>\n",
       "      <td>0.821928</td>\n",
       "      <td>0</td>\n",
       "      <td>0.965011</td>\n",
       "      <td>0.0</td>\n",
       "      <td>0.928512</td>\n",
       "      <td>2.0</td>\n",
       "      <td>0.844112</td>\n",
       "      <td>31.0</td>\n",
       "      <td>0.426601</td>\n",
       "      <td>104.0</td>\n",
       "      <td>0.442659</td>\n",
       "      <td>469.0</td>\n",
       "    </tr>\n",
       "    <tr>\n",
       "      <th>2003-01-17 00:00:00-05:00</th>\n",
       "      <td>0.831103</td>\n",
       "      <td>0.842572</td>\n",
       "      <td>0.811225</td>\n",
       "      <td>0.821928</td>\n",
       "      <td>105883200</td>\n",
       "      <td>0.801284</td>\n",
       "      <td>0</td>\n",
       "      <td>0.980840</td>\n",
       "      <td>0.0</td>\n",
       "      <td>0.918332</td>\n",
       "      <td>1.0</td>\n",
       "      <td>0.812210</td>\n",
       "      <td>30.0</td>\n",
       "      <td>0.413813</td>\n",
       "      <td>104.0</td>\n",
       "      <td>0.425918</td>\n",
       "      <td>469.0</td>\n",
       "    </tr>\n",
       "    <tr>\n",
       "      <th>2003-01-21 00:00:00-05:00</th>\n",
       "      <td>0.837220</td>\n",
       "      <td>0.854806</td>\n",
       "      <td>0.798990</td>\n",
       "      <td>0.801284</td>\n",
       "      <td>96735600</td>\n",
       "      <td>0.802050</td>\n",
       "      <td>1</td>\n",
       "      <td>0.987282</td>\n",
       "      <td>0.0</td>\n",
       "      <td>0.923510</td>\n",
       "      <td>1.0</td>\n",
       "      <td>0.792348</td>\n",
       "      <td>29.0</td>\n",
       "      <td>0.406732</td>\n",
       "      <td>103.0</td>\n",
       "      <td>0.415130</td>\n",
       "      <td>469.0</td>\n",
       "    </tr>\n",
       "    <tr>\n",
       "      <th>2003-01-22 00:00:00-05:00</th>\n",
       "      <td>0.798991</td>\n",
       "      <td>0.822693</td>\n",
       "      <td>0.796697</td>\n",
       "      <td>0.802050</td>\n",
       "      <td>55099200</td>\n",
       "      <td>0.824222</td>\n",
       "      <td>1</td>\n",
       "      <td>1.000477</td>\n",
       "      <td>1.0</td>\n",
       "      <td>0.955896</td>\n",
       "      <td>1.0</td>\n",
       "      <td>0.793075</td>\n",
       "      <td>30.0</td>\n",
       "      <td>0.410636</td>\n",
       "      <td>103.0</td>\n",
       "      <td>0.415436</td>\n",
       "      <td>470.0</td>\n",
       "    </tr>\n",
       "    <tr>\n",
       "      <th>...</th>\n",
       "      <td>...</td>\n",
       "      <td>...</td>\n",
       "      <td>...</td>\n",
       "      <td>...</td>\n",
       "      <td>...</td>\n",
       "      <td>...</td>\n",
       "      <td>...</td>\n",
       "      <td>...</td>\n",
       "      <td>...</td>\n",
       "      <td>...</td>\n",
       "      <td>...</td>\n",
       "      <td>...</td>\n",
       "      <td>...</td>\n",
       "      <td>...</td>\n",
       "      <td>...</td>\n",
       "      <td>...</td>\n",
       "      <td>...</td>\n",
       "    </tr>\n",
       "    <tr>\n",
       "      <th>2023-07-10 00:00:00-04:00</th>\n",
       "      <td>426.570007</td>\n",
       "      <td>428.109985</td>\n",
       "      <td>416.489990</td>\n",
       "      <td>421.799988</td>\n",
       "      <td>35390800</td>\n",
       "      <td>424.049988</td>\n",
       "      <td>1</td>\n",
       "      <td>0.996186</td>\n",
       "      <td>1.0</td>\n",
       "      <td>0.997088</td>\n",
       "      <td>2.0</td>\n",
       "      <td>1.217164</td>\n",
       "      <td>31.0</td>\n",
       "      <td>1.933286</td>\n",
       "      <td>136.0</td>\n",
       "      <td>2.600182</td>\n",
       "      <td>541.0</td>\n",
       "    </tr>\n",
       "    <tr>\n",
       "      <th>2023-07-11 00:00:00-04:00</th>\n",
       "      <td>424.809998</td>\n",
       "      <td>427.579987</td>\n",
       "      <td>420.670013</td>\n",
       "      <td>424.049988</td>\n",
       "      <td>29824400</td>\n",
       "      <td>439.019989</td>\n",
       "      <td>1</td>\n",
       "      <td>1.002660</td>\n",
       "      <td>1.0</td>\n",
       "      <td>1.002444</td>\n",
       "      <td>2.0</td>\n",
       "      <td>1.214344</td>\n",
       "      <td>32.0</td>\n",
       "      <td>1.933906</td>\n",
       "      <td>137.0</td>\n",
       "      <td>2.607909</td>\n",
       "      <td>542.0</td>\n",
       "    </tr>\n",
       "    <tr>\n",
       "      <th>2023-07-12 00:00:00-04:00</th>\n",
       "      <td>430.329987</td>\n",
       "      <td>439.350006</td>\n",
       "      <td>427.769989</td>\n",
       "      <td>439.019989</td>\n",
       "      <td>48127700</td>\n",
       "      <td>459.769989</td>\n",
       "      <td>1</td>\n",
       "      <td>1.017345</td>\n",
       "      <td>2.0</td>\n",
       "      <td>1.030114</td>\n",
       "      <td>3.0</td>\n",
       "      <td>1.247008</td>\n",
       "      <td>32.0</td>\n",
       "      <td>1.991732</td>\n",
       "      <td>137.0</td>\n",
       "      <td>2.693408</td>\n",
       "      <td>542.0</td>\n",
       "    </tr>\n",
       "    <tr>\n",
       "      <th>2023-07-13 00:00:00-04:00</th>\n",
       "      <td>445.179993</td>\n",
       "      <td>461.549988</td>\n",
       "      <td>444.920013</td>\n",
       "      <td>459.769989</td>\n",
       "      <td>47820400</td>\n",
       "      <td>454.690002</td>\n",
       "      <td>0</td>\n",
       "      <td>1.023087</td>\n",
       "      <td>2.0</td>\n",
       "      <td>1.059539</td>\n",
       "      <td>4.0</td>\n",
       "      <td>1.294319</td>\n",
       "      <td>32.0</td>\n",
       "      <td>2.074344</td>\n",
       "      <td>137.0</td>\n",
       "      <td>2.813528</td>\n",
       "      <td>542.0</td>\n",
       "    </tr>\n",
       "    <tr>\n",
       "      <th>2023-07-14 00:00:00-04:00</th>\n",
       "      <td>465.829987</td>\n",
       "      <td>480.880005</td>\n",
       "      <td>450.600006</td>\n",
       "      <td>454.690002</td>\n",
       "      <td>77066400</td>\n",
       "      <td>464.609985</td>\n",
       "      <td>1</td>\n",
       "      <td>0.994445</td>\n",
       "      <td>1.0</td>\n",
       "      <td>1.033701</td>\n",
       "      <td>3.0</td>\n",
       "      <td>1.269413</td>\n",
       "      <td>31.0</td>\n",
       "      <td>2.040481</td>\n",
       "      <td>136.0</td>\n",
       "      <td>2.775473</td>\n",
       "      <td>541.0</td>\n",
       "    </tr>\n",
       "  </tbody>\n",
       "</table>\n",
       "<p>5159 rows × 17 columns</p>\n",
       "</div>"
      ],
      "text/plain": [
       "                                 Open        High         Low       Close  \\\n",
       "Date                                                                        \n",
       "2003-01-15 00:00:00-05:00    0.945791    0.953437    0.915972    0.915972   \n",
       "2003-01-16 00:00:00-05:00    0.902209    0.913678    0.841808    0.854041   \n",
       "2003-01-17 00:00:00-05:00    0.831103    0.842572    0.811225    0.821928   \n",
       "2003-01-21 00:00:00-05:00    0.837220    0.854806    0.798990    0.801284   \n",
       "2003-01-22 00:00:00-05:00    0.798991    0.822693    0.796697    0.802050   \n",
       "...                               ...         ...         ...         ...   \n",
       "2023-07-10 00:00:00-04:00  426.570007  428.109985  416.489990  421.799988   \n",
       "2023-07-11 00:00:00-04:00  424.809998  427.579987  420.670013  424.049988   \n",
       "2023-07-12 00:00:00-04:00  430.329987  439.350006  427.769989  439.019989   \n",
       "2023-07-13 00:00:00-04:00  445.179993  461.549988  444.920013  459.769989   \n",
       "2023-07-14 00:00:00-04:00  465.829987  480.880005  450.600006  454.690002   \n",
       "\n",
       "                              Volume    Tomorrow  Target  Close_Ratio_2  \\\n",
       "Date                                                                      \n",
       "2003-01-15 00:00:00-05:00   90458400    0.854041       0       0.984388   \n",
       "2003-01-16 00:00:00-05:00  203997600    0.821928       0       0.965011   \n",
       "2003-01-17 00:00:00-05:00  105883200    0.801284       0       0.980840   \n",
       "2003-01-21 00:00:00-05:00   96735600    0.802050       1       0.987282   \n",
       "2003-01-22 00:00:00-05:00   55099200    0.824222       1       1.000477   \n",
       "...                              ...         ...     ...            ...   \n",
       "2023-07-10 00:00:00-04:00   35390800  424.049988       1       0.996186   \n",
       "2023-07-11 00:00:00-04:00   29824400  439.019989       1       1.002660   \n",
       "2023-07-12 00:00:00-04:00   48127700  459.769989       1       1.017345   \n",
       "2023-07-13 00:00:00-04:00   47820400  454.690002       0       1.023087   \n",
       "2023-07-14 00:00:00-04:00   77066400  464.609985       1       0.994445   \n",
       "\n",
       "                           Trend_2  Close_Ratio_5  Trend_5  Close_Ratio_60  \\\n",
       "Date                                                                         \n",
       "2003-01-15 00:00:00-05:00      1.0       0.979719      3.0        0.906374   \n",
       "2003-01-16 00:00:00-05:00      0.0       0.928512      2.0        0.844112   \n",
       "2003-01-17 00:00:00-05:00      0.0       0.918332      1.0        0.812210   \n",
       "2003-01-21 00:00:00-05:00      0.0       0.923510      1.0        0.792348   \n",
       "2003-01-22 00:00:00-05:00      1.0       0.955896      1.0        0.793075   \n",
       "...                            ...            ...      ...             ...   \n",
       "2023-07-10 00:00:00-04:00      1.0       0.997088      2.0        1.217164   \n",
       "2023-07-11 00:00:00-04:00      1.0       1.002444      2.0        1.214344   \n",
       "2023-07-12 00:00:00-04:00      2.0       1.030114      3.0        1.247008   \n",
       "2023-07-13 00:00:00-04:00      2.0       1.059539      4.0        1.294319   \n",
       "2023-07-14 00:00:00-04:00      1.0       1.033701      3.0        1.269413   \n",
       "\n",
       "                           Trend_60  Close_Ratio_250  Trend_250  \\\n",
       "Date                                                              \n",
       "2003-01-15 00:00:00-05:00      32.0         0.453887      104.0   \n",
       "2003-01-16 00:00:00-05:00      31.0         0.426601      104.0   \n",
       "2003-01-17 00:00:00-05:00      30.0         0.413813      104.0   \n",
       "2003-01-21 00:00:00-05:00      29.0         0.406732      103.0   \n",
       "2003-01-22 00:00:00-05:00      30.0         0.410636      103.0   \n",
       "...                             ...              ...        ...   \n",
       "2023-07-10 00:00:00-04:00      31.0         1.933286      136.0   \n",
       "2023-07-11 00:00:00-04:00      32.0         1.933906      137.0   \n",
       "2023-07-12 00:00:00-04:00      32.0         1.991732      137.0   \n",
       "2023-07-13 00:00:00-04:00      32.0         2.074344      137.0   \n",
       "2023-07-14 00:00:00-04:00      31.0         2.040481      136.0   \n",
       "\n",
       "                           Close_Ratio_1000  Trend_1000  \n",
       "Date                                                     \n",
       "2003-01-15 00:00:00-05:00          0.474866       470.0  \n",
       "2003-01-16 00:00:00-05:00          0.442659       469.0  \n",
       "2003-01-17 00:00:00-05:00          0.425918       469.0  \n",
       "2003-01-21 00:00:00-05:00          0.415130       469.0  \n",
       "2003-01-22 00:00:00-05:00          0.415436       470.0  \n",
       "...                                     ...         ...  \n",
       "2023-07-10 00:00:00-04:00          2.600182       541.0  \n",
       "2023-07-11 00:00:00-04:00          2.607909       542.0  \n",
       "2023-07-12 00:00:00-04:00          2.693408       542.0  \n",
       "2023-07-13 00:00:00-04:00          2.813528       542.0  \n",
       "2023-07-14 00:00:00-04:00          2.775473       541.0  \n",
       "\n",
       "[5159 rows x 17 columns]"
      ]
     },
     "execution_count": 36,
     "metadata": {},
     "output_type": "execute_result"
    }
   ],
   "source": [
    "nvda"
   ]
  },
  {
   "cell_type": "markdown",
   "id": "14eb4c8e",
   "metadata": {},
   "source": [
    "# Improving the Model"
   ]
  },
  {
   "cell_type": "code",
   "execution_count": 39,
   "id": "9f389da3",
   "metadata": {},
   "outputs": [],
   "source": [
    "model = RandomForestClassifier(n_estimators = 300, min_samples_split = 50, random_state = 1)"
   ]
  },
  {
   "cell_type": "markdown",
   "id": "2017c1f8",
   "metadata": {},
   "source": [
    "## Using predict_proba method in predict function:"
   ]
  },
  {
   "cell_type": "code",
   "execution_count": 40,
   "id": "5e16cd65",
   "metadata": {},
   "outputs": [],
   "source": [
    "def predict(train,test,predictors,model):\n",
    "    model.fit(train[predictors],train['Target'])\n",
    "    preds = model.predict_proba(test[predictors])[:,1]\n",
    "    preds[preds >= .6] = 1\n",
    "    preds[preds < .6] = 0\n",
    "    preds = pd.Series(preds, index=test.index, name='Predictions')\n",
    "    combined = pd.concat([test['Target'],preds],axis=1)\n",
    "    return combined"
   ]
  },
  {
   "cell_type": "code",
   "execution_count": 41,
   "id": "5efb8ebf",
   "metadata": {},
   "outputs": [],
   "source": [
    "predictions = backtest(nvda, model, new_predictors)"
   ]
  },
  {
   "cell_type": "code",
   "execution_count": 42,
   "id": "f174e396",
   "metadata": {},
   "outputs": [
    {
     "data": {
      "text/plain": [
       "0.0    2469\n",
       "1.0     190\n",
       "Name: Predictions, dtype: int64"
      ]
     },
     "execution_count": 42,
     "metadata": {},
     "output_type": "execute_result"
    }
   ],
   "source": [
    "predictions['Predictions'].value_counts()"
   ]
  },
  {
   "cell_type": "markdown",
   "id": "4b72ef99",
   "metadata": {},
   "source": [
    "# Final Precision Score of Model"
   ]
  },
  {
   "cell_type": "code",
   "execution_count": 43,
   "id": "9f88b7b5",
   "metadata": {},
   "outputs": [
    {
     "data": {
      "text/plain": [
       "0.5789473684210527"
      ]
     },
     "execution_count": 43,
     "metadata": {},
     "output_type": "execute_result"
    }
   ],
   "source": [
    "precision_score(predictions['Target'], predictions['Predictions'])"
   ]
  }
 ],
 "metadata": {
  "kernelspec": {
   "display_name": "Python 3 (ipykernel)",
   "language": "python",
   "name": "python3"
  },
  "language_info": {
   "codemirror_mode": {
    "name": "ipython",
    "version": 3
   },
   "file_extension": ".py",
   "mimetype": "text/x-python",
   "name": "python",
   "nbconvert_exporter": "python",
   "pygments_lexer": "ipython3",
   "version": "3.10.9"
  }
 },
 "nbformat": 4,
 "nbformat_minor": 5
}
